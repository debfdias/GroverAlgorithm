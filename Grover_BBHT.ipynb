{
 "cells": [
  {
   "cell_type": "markdown",
   "metadata": {},
   "source": [
    "## Grover's Algorithm\n",
    "Centro de Informática - UFPE\n",
    "\n",
    "Developed by: Débora Fortunato Dias (dfd2)"
   ]
  },
  {
   "cell_type": "markdown",
   "metadata": {},
   "source": [
    "### Initialization (IBM Token)\n"
   ]
  },
  {
   "cell_type": "code",
   "execution_count": 1,
   "metadata": {},
   "outputs": [
    {
     "data": {
      "text/plain": [
       "<AccountProvider for IBMQ(hub='ibm-q', group='open', project='main')>"
      ]
     },
     "execution_count": 1,
     "metadata": {},
     "output_type": "execute_result"
    }
   ],
   "source": [
    "from qiskit import QuantumCircuit, QuantumRegister, ClassicalRegister, execute, Aer, IBMQ\n",
    "from qiskit.providers.ibmq import least_busy\n",
    "import math as m\n",
    "from qiskit.visualization import plot_histogram\n",
    "\n",
    "import getpass\n",
    "\n",
    "MY_API_TOKEN = \"Insert your token\"\n",
    "IBMQ.enable_account(MY_API_TOKEN)"
   ]
  },
  {
   "cell_type": "markdown",
   "metadata": {},
   "source": [
    "### Grover 3 Qbits (t = 1, 2, 3) "
   ]
  },
  {
   "cell_type": "code",
   "execution_count": 7,
   "metadata": {
    "scrolled": false
   },
   "outputs": [
    {
     "ename": "ModuleNotFoundError",
     "evalue": "No module named 'matplotlib'",
     "output_type": "error",
     "traceback": [
      "\u001b[1;31m---------------------------------------------------------------------------\u001b[0m",
      "\u001b[1;31mModuleNotFoundError\u001b[0m                       Traceback (most recent call last)",
      "\u001b[1;32m<ipython-input-7-1e44858b0b01>\u001b[0m in \u001b[0;36m<module>\u001b[1;34m\u001b[0m\n\u001b[0;32m      1\u001b[0m \u001b[1;31m#initialization\u001b[0m\u001b[1;33m\u001b[0m\u001b[1;33m\u001b[0m\u001b[1;33m\u001b[0m\u001b[0m\n\u001b[1;32m----> 2\u001b[1;33m \u001b[1;32mimport\u001b[0m \u001b[0mmatplotlib\u001b[0m\u001b[1;33m.\u001b[0m\u001b[0mpyplot\u001b[0m \u001b[1;32mas\u001b[0m \u001b[0mplt\u001b[0m\u001b[1;33m\u001b[0m\u001b[1;33m\u001b[0m\u001b[0m\n\u001b[0m\u001b[0;32m      3\u001b[0m \u001b[0mget_ipython\u001b[0m\u001b[1;33m(\u001b[0m\u001b[1;33m)\u001b[0m\u001b[1;33m.\u001b[0m\u001b[0mrun_line_magic\u001b[0m\u001b[1;33m(\u001b[0m\u001b[1;34m'matplotlib'\u001b[0m\u001b[1;33m,\u001b[0m \u001b[1;34m'inline'\u001b[0m\u001b[1;33m)\u001b[0m\u001b[1;33m\u001b[0m\u001b[1;33m\u001b[0m\u001b[0m\n\u001b[0;32m      4\u001b[0m \u001b[1;32mimport\u001b[0m \u001b[0mnumpy\u001b[0m \u001b[1;32mas\u001b[0m \u001b[0mnp\u001b[0m\u001b[1;33m\u001b[0m\u001b[1;33m\u001b[0m\u001b[0m\n\u001b[0;32m      5\u001b[0m \u001b[1;32mimport\u001b[0m \u001b[0mmath\u001b[0m \u001b[1;32mas\u001b[0m \u001b[0mm\u001b[0m\u001b[1;33m\u001b[0m\u001b[1;33m\u001b[0m\u001b[0m\n",
      "\u001b[1;31mModuleNotFoundError\u001b[0m: No module named 'matplotlib'"
     ]
    }
   ],
   "source": [
    "#initialization\n",
    "import matplotlib.pyplot as plt\n",
    "%matplotlib inline\n",
    "import numpy as np\n",
    "import math as m\n",
    "\n",
    "# importing Qiskit\n",
    "from qiskit import IBMQ, BasicAer\n",
    "from qiskit.providers.ibmq import least_busy\n",
    "from qiskit import QuantumCircuit, ClassicalRegister, QuantumRegister, execute\n",
    "from qiskit.tools.visualization import plot_histogram\n",
    "from qiskit.tools.monitor import job_monitor\n",
    "from qiskit.circuit import Gate\n",
    "from qiskit.providers.aer import QasmSimulator\n",
    "\n",
    "def oraculo(qc, qr):\n",
    "    #define your oracles here\n",
    "    \n",
    "    #100\n",
    "    qc.x(qr[1])\n",
    "    qc.x(qr[2])\n",
    "\n",
    "    qc.h(qr[2])\n",
    "    qc.ccx(qr[0], qr[1], qr[2])\n",
    "    qc.h(qr[2])\n",
    "\n",
    "    qc.x(qr[1])\n",
    "    qc.x(qr[2])\n",
    "    \n",
    "    \n",
    "    \n",
    "    #001\n",
    "    qc.x(qr[0])\n",
    "    qc.x(qr[1])\n",
    "\n",
    "    qc.h(qr[2])\n",
    "    qc.ccx(qr[0], qr[1], qr[2])\n",
    "    qc.h(qr[2])\n",
    "\n",
    "    qc.x(qr[0])\n",
    "    qc.x(qr[1])\n",
    "    \n",
    "    \n",
    "    \"\"\"#110\n",
    "    qc.x(qr[0])\n",
    "\n",
    "    qc.h(qr[2])\n",
    "    qc.ccx(qr[0], qr[1], qr[2])\n",
    "    qc.h(qr[2])\n",
    "\n",
    "    qc.x(qr[0])\"\"\"\n",
    "    \n",
    "    \n",
    "    \n",
    "    \"\"\"#101\n",
    "    qc.x(qr[1])\n",
    "\n",
    "    qc.h(qr[2])\n",
    "    qc.ccx(qr[0], qr[1], qr[2])\n",
    "    qc.h(qr[2])\n",
    "\n",
    "    qc.x(qr[1])\n",
    "    \"\"\"\n",
    "\n",
    "    #111\n",
    "    qc.h(qr[2])\n",
    "    qc.ccx(qr[0], qr[1], qr[2])\n",
    "    qc.h(qr[2]) \n",
    "    \n",
    "     \n",
    "    \n",
    "\n",
    "\n",
    "def nCZ(circuit, controls, target):\n",
    "    if (len(controls) > 4):\n",
    "        raise ValueError('Not implemented')\n",
    "    elif (len(controls) == 1):\n",
    "        circuit.h(target)\n",
    "        circuit.cx(controls[0], target)\n",
    "        circuit.h(target)\n",
    "    elif (len(controls) == 2):\n",
    "        circuit.h(target)\n",
    "        circuit.ccx(controls[0], controls[1], target)\n",
    "        circuit.h(target)\n",
    "    elif (len(controls) == 3):       \n",
    "        circuit.h(target)\n",
    "        circuit.cccx(controls[0], controls[1], controls[2], target)\n",
    "        circuit.h(target)\n",
    "                \n",
    "\n",
    "def inversao(qc, qr, n):\n",
    "    qc.h(qr)\n",
    "    qc.x(qr)\n",
    "    \n",
    "    nCZ(qc, [qr[j] for j in range(n-1)], qr[n-1])\n",
    "    \n",
    "    qc.x(qr)\n",
    "    qc.h(qr)\n",
    "\n",
    "\n",
    "pi = m.pi\n",
    "n = 3\n",
    "N = 2**n\n",
    "M = 3\n",
    "\n",
    "qr = QuantumRegister(n)\n",
    "cr = ClassicalRegister(n)\n",
    "\n",
    "groverCircuit = QuantumCircuit(qr,cr)\n",
    "groverCircuit.h(qr)\n",
    "\n",
    "iteracoes = m.floor(m.pi *(N/M)**(1/2) / 4 ) \n",
    "\n",
    "for i in range(3):\n",
    "    oraculo(groverCircuit, qr)\n",
    "    groverCircuit.barrier()\n",
    "    inversao(groverCircuit, qr, n)\n",
    "    groverCircuit.barrier()\n",
    "    \n",
    "print(iteracoes)\n",
    "\n",
    "groverCircuit.measure(qr,cr)\n",
    "\n",
    "\n"
   ]
  },
  {
   "cell_type": "markdown",
   "metadata": {},
   "source": [
    "### Simulation "
   ]
  },
  {
   "cell_type": "code",
   "execution_count": null,
   "metadata": {},
   "outputs": [],
   "source": [
    "AccountProvider = IBMQ.get_provider(hub='ibm-q', group='open', project='main')\n",
    "AccountProvider.backends()\n",
    "\n",
    "#filters=lambda x: x.configuration().n_qubits <= 5 and not x.configuration().simulator and x.status().operational==True\n",
    "#backend = least_busy(AccountProvider.backends(operational=True))\n",
    "\n",
    "backend = AccountProvider.get_backend(\"ibmqx2\") #define here your backend\n",
    "#print(backend.configuration())\n",
    "print(\"least busy backend: \", backend)"
   ]
  },
  {
   "cell_type": "code",
   "execution_count": 6,
   "metadata": {
    "scrolled": true
   },
   "outputs": [
    {
     "name": "stdout",
     "output_type": "stream",
     "text": [
      "{'010': 22, '011': 15, '110': 19, '111': 2661, '101': 14, '100': 2700, '000': 19, '001': 2742}\n",
      "0.04068899154663086\n"
     ]
    },
    {
     "ename": "ImportError",
     "evalue": "Must have Matplotlib installed.",
     "output_type": "error",
     "traceback": [
      "\u001b[1;31m---------------------------------------------------------------------------\u001b[0m",
      "\u001b[1;31mImportError\u001b[0m                               Traceback (most recent call last)",
      "\u001b[1;32m<ipython-input-6-838a0e44b292>\u001b[0m in \u001b[0;36m<module>\u001b[1;34m\u001b[0m\n\u001b[0;32m      6\u001b[0m \u001b[0mprint\u001b[0m\u001b[1;33m(\u001b[0m\u001b[0mresult\u001b[0m\u001b[1;33m.\u001b[0m\u001b[0mtime_taken\u001b[0m\u001b[1;33m)\u001b[0m\u001b[1;33m\u001b[0m\u001b[1;33m\u001b[0m\u001b[0m\n\u001b[0;32m      7\u001b[0m \u001b[1;33m\u001b[0m\u001b[0m\n\u001b[1;32m----> 8\u001b[1;33m \u001b[0mplot_histogram\u001b[0m\u001b[1;33m(\u001b[0m\u001b[0mcounts\u001b[0m\u001b[1;33m)\u001b[0m\u001b[1;33m\u001b[0m\u001b[1;33m\u001b[0m\u001b[0m\n\u001b[0m",
      "\u001b[1;32m~\\AppData\\Local\\Continuum\\anaconda3\\envs\\notebook\\lib\\site-packages\\qiskit\\visualization\\counts_visualization.py\u001b[0m in \u001b[0;36mplot_histogram\u001b[1;34m(data, figsize, color, number_to_keep, sort, target_string, legend, bar_labels, title, ax)\u001b[0m\n\u001b[0;32m    101\u001b[0m     \"\"\"\n\u001b[0;32m    102\u001b[0m     \u001b[1;32mif\u001b[0m \u001b[1;32mnot\u001b[0m \u001b[0mHAS_MATPLOTLIB\u001b[0m\u001b[1;33m:\u001b[0m\u001b[1;33m\u001b[0m\u001b[1;33m\u001b[0m\u001b[0m\n\u001b[1;32m--> 103\u001b[1;33m         \u001b[1;32mraise\u001b[0m \u001b[0mImportError\u001b[0m\u001b[1;33m(\u001b[0m\u001b[1;34m'Must have Matplotlib installed.'\u001b[0m\u001b[1;33m)\u001b[0m\u001b[1;33m\u001b[0m\u001b[1;33m\u001b[0m\u001b[0m\n\u001b[0m\u001b[0;32m    104\u001b[0m     \u001b[1;32mif\u001b[0m \u001b[0msort\u001b[0m \u001b[1;32mnot\u001b[0m \u001b[1;32min\u001b[0m \u001b[0mVALID_SORTS\u001b[0m\u001b[1;33m:\u001b[0m\u001b[1;33m\u001b[0m\u001b[1;33m\u001b[0m\u001b[0m\n\u001b[0;32m    105\u001b[0m         raise VisualizationError(\"Value of sort option, %s, isn't a \"\n",
      "\u001b[1;31mImportError\u001b[0m: Must have Matplotlib installed."
     ]
    }
   ],
   "source": [
    "#backend = BasicAer.get_backend('qasm_simulator') #uncoment if you want to use local simulator\n",
    "\n",
    "result = execute(groverCircuit, backend, shots = 8192,  optimization_level=3).result()\n",
    "counts = result.get_counts(0)\n",
    "print(counts)\n",
    "print(result.time_taken)\n",
    "\n",
    "plot_histogram(counts)"
   ]
  },
  {
   "cell_type": "markdown",
   "metadata": {},
   "source": [
    "#### Number of r iterations "
   ]
  },
  {
   "cell_type": "code",
   "execution_count": 8,
   "metadata": {},
   "outputs": [
    {
     "name": "stdout",
     "output_type": "stream",
     "text": [
      "0.9902343749999999\n"
     ]
    }
   ],
   "source": [
    "N = 8\n",
    "M = 3\n",
    "r = m.sin( (2*3+1)*m.asin( (M/N)**(1/2) ) )**2\n",
    "print(r)"
   ]
  },
  {
   "cell_type": "code",
   "execution_count": 13,
   "metadata": {
    "scrolled": false
   },
   "outputs": [
    {
     "name": "stdout",
     "output_type": "stream",
     "text": [
      "least busy backend:  ibmq_16_melbourne\n",
      "Job Status: job has successfully run\n",
      "{'100': 152, '011': 116, '111': 98, '010': 146, '101': 108, '000': 142, '110': 135, '001': 127}\n"
     ]
    },
    {
     "data": {
      "image/png": "[encoded data removed]",
      "text/plain": [
       "<Figure size 504x360 with 1 Axes>"
      ]
     },
     "execution_count": 13,
     "metadata": {},
     "output_type": "execute_result"
    }
   ],
   "source": [
    "from qiskit.tools.monitor import job_monitor\n",
    "\n",
    "\n",
    "IBMQ.get_provider(hub='ibm-q')\n",
    "AccountProvider = IBMQ.get_provider(hub='ibm-q', group='open', project='main')\n",
    "AccountProvider.backends()\n",
    "\n",
    "#filters=lambda x: x.configuration().n_qubits <= 5 and not x.configuration().simulator and x.status().operational==True\n",
    "#backend = least_busy(AccountProvider.backends(operational=True))\n",
    "backend = AccountProvider.get_backend(\"ibmq_16_melbourne\")\n",
    "print(\"least busy backend: \", backend)\n",
    "\n",
    "\n",
    "shots = 1024\n",
    "job = execute(groverCircuit, backend=backend, shots=shots, optimization_level=3)\n",
    "\n",
    "job_monitor(job, interval = 2)\n",
    "\n",
    "results = job.result()\n",
    "answer = results.get_counts(groverCircuit)\n",
    "print(answer)\n",
    "#print(results.time_taken)\n",
    "\n",
    "plot_histogram(answer)\n",
    "\n"
   ]
  },
  {
   "cell_type": "code",
   "execution_count": 9,
   "metadata": {},
   "outputs": [
    {
     "ename": "NameError",
     "evalue": "name 'AccountProvider' is not defined",
     "output_type": "error",
     "traceback": [
      "\u001b[1;31m---------------------------------------------------------------------------\u001b[0m",
      "\u001b[1;31mNameError\u001b[0m                                 Traceback (most recent call last)",
      "\u001b[1;32m<ipython-input-9-c37f12d9b919>\u001b[0m in \u001b[0;36m<module>\u001b[1;34m\u001b[0m\n\u001b[1;32m----> 1\u001b[1;33m \u001b[0mbackend\u001b[0m \u001b[1;33m=\u001b[0m \u001b[0mAccountProvider\u001b[0m\u001b[1;33m.\u001b[0m\u001b[0mget_backend\u001b[0m\u001b[1;33m(\u001b[0m\u001b[1;34m\"ibmq_ourense\"\u001b[0m\u001b[1;33m)\u001b[0m\u001b[1;33m\u001b[0m\u001b[1;33m\u001b[0m\u001b[0m\n\u001b[0m\u001b[0;32m      2\u001b[0m \u001b[0mprint\u001b[0m\u001b[1;33m(\u001b[0m\u001b[1;34m\"least busy backend: \"\u001b[0m\u001b[1;33m,\u001b[0m \u001b[0mbackend\u001b[0m\u001b[1;33m)\u001b[0m\u001b[1;33m\u001b[0m\u001b[1;33m\u001b[0m\u001b[0m\n",
      "\u001b[1;31mNameError\u001b[0m: name 'AccountProvider' is not defined"
     ]
    }
   ],
   "source": [
    "backend = AccountProvider.get_backend(\"ibmq_ourense\")\n",
    "print(\"least busy backend: \", backend)"
   ]
  },
  {
   "cell_type": "markdown",
   "metadata": {},
   "source": [
    "### BBHT - Grover 3 Qbits\n",
    "\n"
   ]
  },
  {
   "cell_type": "code",
   "execution_count": 424,
   "metadata": {},
   "outputs": [
    {
     "name": "stdout",
     "output_type": "stream",
     "text": [
      "====== iteracao :  1 ======\n",
      "lista de k :  [1]\n",
      "iteracoes de grover :  1\n",
      "111  - ok\n",
      "{'111': 1}\n",
      "tempo gasto:  3.2235443592071533\n"
     ]
    }
   ],
   "source": [
    "#initialization\n",
    "import matplotlib.pyplot as plt\n",
    "%matplotlib inline\n",
    "import numpy as np\n",
    "import math \n",
    "import random\n",
    "\n",
    "from qiskit import IBMQ, BasicAer\n",
    "from qiskit.providers.ibmq import least_busy\n",
    "from qiskit import QuantumCircuit, ClassicalRegister, QuantumRegister, execute\n",
    "from qiskit.tools.visualization import plot_histogram\n",
    "from qiskit.tools.monitor import job_monitor\n",
    "from qiskit.circuit import Gate\n",
    "from qiskit.providers.aer import QasmSimulator\n",
    "\n",
    "def oraculo(qc, qr):\n",
    "    \n",
    "    \"\"\"#100\n",
    "    qc.x(qr[1])\n",
    "    qc.x(qr[2])\n",
    "\n",
    "    qc.h(qr[2])\n",
    "    qc.ccx(qr[0], qr[1], qr[2])\n",
    "    qc.h(qr[2])\n",
    "\n",
    "    qc.x(qr[1])\n",
    "    qc.x(qr[2])\"\"\"\n",
    "    \n",
    "    \n",
    "    \n",
    "    \"\"\"#001\n",
    "    qc.x(qr[0])\n",
    "    qc.x(qr[1])\n",
    "\n",
    "    qc.h(qr[2])\n",
    "    qc.ccx(qr[0], qr[1], qr[2])\n",
    "    qc.h(qr[2])\n",
    "\n",
    "    qc.x(qr[0])\n",
    "    qc.x(qr[1])\n",
    "    \"\"\"\n",
    "    \n",
    "    \"\"\"#110\n",
    "    qc.x(qr[0])\n",
    "\n",
    "    qc.h(qr[2])\n",
    "    qc.ccx(qr[0], qr[1], qr[2])\n",
    "    qc.h(qr[2])\n",
    "\n",
    "    qc.x(qr[0])\n",
    "    \n",
    "    \n",
    "    \n",
    "    \n",
    "    #101\n",
    "    qc.x(qr[1])\n",
    "\n",
    "    qc.h(qr[2])\n",
    "    qc.ccx(qr[0], qr[1], qr[2])\n",
    "    qc.h(qr[2])\n",
    "\n",
    "    qc.x(qr[1])\"\"\"\n",
    "    \n",
    "    \n",
    "    \n",
    "\n",
    "    #111\n",
    "    qc.h(qr[2])\n",
    "    qc.ccx(qr[0], qr[1], qr[2])\n",
    "    qc.h(qr[2])\n",
    "    \n",
    "\n",
    "def nCZ(circuit, controls, target):\n",
    "    if (len(controls) > 4):\n",
    "        raise ValueError('not implemented')\n",
    "    elif (len(controls) == 1):\n",
    "        circuit.h(target)\n",
    "        circuit.cx(controls[0], target)\n",
    "        circuit.h(target)\n",
    "    elif (len(controls) == 2):\n",
    "        circuit.h(target)\n",
    "        circuit.ccx(controls[0], controls[1], target)\n",
    "        circuit.h(target)\n",
    "    elif (len(controls) == 3):       \n",
    "        circuit.h(target)\n",
    "        circuit.cccx(controls[0], controls[1], controls[2], target)\n",
    "        circuit.h(target)\n",
    "                \n",
    "\n",
    "def inversao(qc, qr, n):\n",
    "    qc.h(qr)\n",
    "    qc.x(qr)\n",
    "    \n",
    "    nCZ(qc, [qr[j] for j in range(n-1)], qr[n-1])\n",
    "    \n",
    "    qc.x(qr)\n",
    "    qc.h(qr)\n",
    "    \n",
    "def groverIteracao(groverCircuit, qr, n):\n",
    "    oraculo(groverCircuit, qr)\n",
    "    inversao(groverCircuit, qr, n)\n",
    "\n",
    "\n",
    "pi = math.pi\n",
    "n = 3\n",
    "N = 2**n\n",
    "m = 1\n",
    "lmb = 1.34\n",
    "upperBound = math.floor((N)**(1/2))\n",
    "\n",
    "qr = QuantumRegister(n, 'q')\n",
    "cr = ClassicalRegister(n, 'c')\n",
    "\n",
    "groverCircuit = QuantumCircuit(qr,cr)\n",
    "groverCircuit.h(qr)\n",
    "\n",
    "contador = 1\n",
    "\n",
    "\n",
    "IBMQ.get_provider(hub='ibm-q')\n",
    "AccountProvider = IBMQ.get_provider(hub='ibm-q', group='open', project='main')\n",
    "\n",
    "#backend = BasicAer.get_backend('qasm_simulator')\n",
    "backend = AccountProvider.get_backend(\"ibmq_ourense\")\n",
    "achou = 0\n",
    "\n",
    "while (achou == 0):\n",
    "    print(\"====== iteration : \", contador, \"======\")\n",
    "    kLista = list(range(1, math.floor(m+1))) \n",
    "    print(\"list of k : \", kLista)\n",
    "    kAleatorio = random.choice(kLista)\n",
    "    print(\"number of Grover iterations : \", kAleatorio)\n",
    "    \n",
    "    for i in range(kAleatorio):\n",
    "        groverIteracao(groverCircuit, qr, n)\n",
    "    \n",
    "    groverCircuit.measure(qr,cr) \n",
    "    result = execute(groverCircuit, backend, shots = 1,  optimization_level=3).result()\n",
    "    counts = result.get_counts()\n",
    "    \n",
    "    for j in counts:\n",
    "        if (j in ['111']):\n",
    "            print(j, \" - ok\")\n",
    "            achou = 1\n",
    "        else:\n",
    "            print(j, \" - nope\")\n",
    "            m = (m*lmb)\n",
    "            print(m)\n",
    "    \n",
    "    print(counts)\n",
    "    contador = contador + 1\n",
    "        \n",
    "\n",
    "        \n",
    "plot_histogram(counts)\n",
    "    \n",
    "print(\"time taken: \", result.time_taken)\n",
    "\n"
   ]
  },
  {
   "cell_type": "code",
   "execution_count": 406,
   "metadata": {},
   "outputs": [
    {
     "data": {
      "image/png": "[encoded data removed]",
      "text/plain": [
       "<Figure size 504x360 with 1 Axes>"
      ]
     },
     "execution_count": 406,
     "metadata": {},
     "output_type": "execute_result"
    }
   ],
   "source": [
    "plot_histogram(counts)"
   ]
  },
  {
   "cell_type": "markdown",
   "metadata": {},
   "source": [
    "### Grover 2 Qbits (t = 1, 2) "
   ]
  },
  {
   "cell_type": "code",
   "execution_count": 425,
   "metadata": {
    "scrolled": true
   },
   "outputs": [
    {
     "name": "stdout",
     "output_type": "stream",
     "text": [
      "1\n",
      "{'00': 1968, '10': 2005, '01': 2088, '11': 2131}\n",
      "0.0249330997467041\n"
     ]
    },
    {
     "data": {
      "image/png": "[encoded data removed]",
      "text/plain": [
       "<Figure size 504x360 with 1 Axes>"
      ]
     },
     "execution_count": 425,
     "metadata": {},
     "output_type": "execute_result"
    }
   ],
   "source": [
    "from qiskit import QuantumCircuit, ClassicalRegister, QuantumRegister, execute\n",
    "from qiskit.tools.visualization import plot_histogram, circuit_drawer\n",
    "import math as m\n",
    "from qiskit.visualization import plot_histogram\n",
    "\n",
    "def Oraculo(qc,q):\n",
    "    \n",
    "    \"\"\"for i in range(2):\n",
    "        qc.h(q[i])\n",
    "\n",
    "    \n",
    "    # s em todos qbits\n",
    "    for i in range(2):\n",
    "        qc.s(q[i])\"\"\"\n",
    "\n",
    "    #qc.cx(q[0], q[1]) \n",
    "    \n",
    "    qc.x(q[0])\n",
    "    qc.x(q[1])\n",
    "    qc.cz(q[0], q[1]) \n",
    "    \n",
    "    #qc.cx(q[0], q[1]) \n",
    "    \n",
    "    qc.x(q[0])\n",
    "    qc.x(q[1])\n",
    "    \n",
    "    \n",
    "    \"\"\"for i in range(2):\n",
    "        qc.s(q[i])\"\"\"\n",
    "        \n",
    "        \n",
    "    \n",
    "def Inversao(qc,q):\n",
    "    for i in range(2):\n",
    "        qc.h(q[i])\n",
    "        \n",
    "    for i in range(2):\n",
    "        qc.x(q[i])\n",
    "\n",
    "    qc.cz(q[0], q[1])\n",
    "\n",
    "    for i in range(2):\n",
    "        qc.x(q[i])\n",
    "\n",
    "    for i in range(2):\n",
    "        qc.h(q[i])\n",
    "\n",
    "\n",
    "q = QuantumRegister(2)\n",
    "c = ClassicalRegister(2)\n",
    "qc = QuantumCircuit(q, c)\n",
    "\n",
    "N = 4\n",
    "M = 2\n",
    "\n",
    "iteracoes = m.floor(m.pi *(N/M)**(1/2) / 4 ) \n",
    "for i in range(iteracoes):#\n",
    "    Oraculo(qc, q)\n",
    "    qc.barrier(q)\n",
    "    Inversao(qc,q)\n",
    "    qc.barrier(q)\n",
    "    print(iteracoes)\n",
    "\n",
    "qc.measure(q, c)\n",
    "\n",
    "simulator = Aer.get_backend('qasm_simulator')\n",
    "result = execute(qc, simulator, shots=8192).result()\n",
    "counts = result.get_counts(qc)\n",
    "print(counts)\n",
    "print(result.time_taken)\n",
    "\n",
    "plot_histogram(counts)"
   ]
  },
  {
   "cell_type": "code",
   "execution_count": 361,
   "metadata": {
    "scrolled": false
   },
   "outputs": [
    {
     "name": "stdout",
     "output_type": "stream",
     "text": [
      "least busy backend:  ibmq_ourense\n",
      "Job Status: job has successfully run\n",
      "{'00': 37, '10': 24, '01': 483, '11': 480}\n",
      "8.478020906448364\n"
     ]
    },
    {
     "data": {
      "image/png": "[encoded data removed]",
      "text/plain": [
       "<Figure size 504x360 with 1 Axes>"
      ]
     },
     "execution_count": 361,
     "metadata": {},
     "output_type": "execute_result"
    }
   ],
   "source": [
    "from qiskit.tools.monitor import job_monitor\n",
    "\n",
    "AccountProvider = IBMQ.get_provider(hub='ibm-q', group='open', project='main')\n",
    "AccountProvider.backends()\n",
    "\n",
    "#filters=lambda x: x.configuration().n_qubits <= 5 and not x.configuration().simulator and x.status().operational==True\n",
    "#backend = least_busy(AccountProvider.backends(operational=True))\n",
    "backend = AccountProvider.get_backend(\"ibmq_ourense\")\n",
    "print(\"least busy backend: \", backend)\n",
    "\n",
    "job = execute(qc, backend, shots = 1024, optimization_level=3)\n",
    "\n",
    "job_monitor(job, interval = 2)\n",
    "\n",
    "results = job.result()\n",
    "answer = results.get_counts(qc)\n",
    "print(answer)\n",
    "print(results.time_taken)\n",
    "\n",
    "plot_histogram(answer)\n"
   ]
  },
  {
   "cell_type": "markdown",
   "metadata": {},
   "source": [
    "### References\n",
    "\n",
    "Tight bounds on quantum searching\n",
    "https://arxiv.org/abs/quant-ph/9605034\n",
    "\n",
    "A quantum algorithm for finding the minimum\n",
    "https://arxiv.org/pdf/quant-ph/9607014.pdf\n",
    "\n",
    "Quantum Mechanics helps in searching for a needle in a haystack\n",
    "https://arxiv.org/pdf/quant-ph/9706033.pdf"
   ]
  },
  {
   "cell_type": "code",
   "execution_count": null,
   "metadata": {},
   "outputs": [],
   "source": []
  }
 ],
 "metadata": {
  "kernelspec": {
   "display_name": "Python 3",
   "language": "python",
   "name": "python3"
  },
  "language_info": {
   "codemirror_mode": {
    "name": "ipython",
    "version": 3
   },
   "file_extension": ".py",
   "mimetype": "text/x-python",
   "name": "python",
   "nbconvert_exporter": "python",
   "pygments_lexer": "ipython3",
   "version": "3.7.5"
  }
 },
 "nbformat": 4,
 "nbformat_minor": 2
}
